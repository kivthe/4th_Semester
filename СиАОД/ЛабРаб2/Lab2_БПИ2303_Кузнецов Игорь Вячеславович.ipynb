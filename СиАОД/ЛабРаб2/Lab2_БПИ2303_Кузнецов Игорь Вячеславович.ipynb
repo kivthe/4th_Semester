{
 "cells": [
  {
   "cell_type": "markdown",
   "id": "fifteen-sailing",
   "metadata": {
    "id": "fifteen-sailing"
   },
   "source": [
    "# Лабораторная работа №2\n",
    "## Выполнил студент группы ФИО ГРУППА"
   ]
  },
  {
   "cell_type": "markdown",
   "id": "arctic-stocks",
   "metadata": {
    "id": "arctic-stocks"
   },
   "source": [
    "Реализовать следующие структуры данных:\n",
    "  \n",
    "● <b> Стек (stack): </b>  \n",
    "Операции для стека:\n",
    "<i> инициализация, проверка на пустоту, добавление нового элемента в начало, извлечение элемента из начала;  </i>  \n",
    "  \n",
    "● <b> Дек (двусторонняя очередь, deque):  </b>  \n",
    "Операции для дека:\n",
    "<i> инициализация, проверка на пустоту, добавление нового элемента в начало, добавление нового элемента в конец, извлечение элемента из начала, извлечение элемента из конца. </i>  \n",
    "  \n",
    "<i> Разработать программу обработки данных, содержащихся в заранее подготовленном txt-файле, в соответствии с заданиями, применив указанную в задании структуру данных. Результат работы программы вывести на экран и сохранить в отдельном txt-файле. </i>"
   ]
  },
  {
   "cell_type": "code",
   "execution_count": null,
   "id": "8d36be60",
   "metadata": {},
   "outputs": [],
   "source": [
    "class Stack:\n",
    "    def __init__(self):\n",
    "        self.items = []\n",
    "\n",
    "    def is_empty(self):\n",
    "        return len(self.items) == 0\n",
    "\n",
    "    def push(self, item):\n",
    "        self.items.append(item)\n",
    "\n",
    "    def pop(self):\n",
    "        if not self.is_empty():\n",
    "            return self.items.pop()\n",
    "        else:\n",
    "            raise IndexError(\"Attempt at extracting an item from empty stack\")\n",
    "\n",
    "    def peek(self):\n",
    "        if not self.is_empty():\n",
    "            return self.items[-1]\n",
    "        else:\n",
    "            raise IndexError(\"Stack empty\")\n",
    "\n",
    "    def size(self):\n",
    "        return len(self.items)\n",
    "\n",
    "class Deque:\n",
    "    def __init__(self):\n",
    "        self.items = []\n",
    "\n",
    "    def is_empty(self):\n",
    "        return len(self.items) == 0\n",
    "\n",
    "    def add_front(self, item):\n",
    "        self.items.insert(0, item)\n",
    "\n",
    "    def add_rear(self, item):\n",
    "        self.items.append(item)\n",
    "\n",
    "    def remove_front(self):\n",
    "        if not self.is_empty():\n",
    "            return self.items.pop(0)\n",
    "        else:\n",
    "            raise IndexError(\"Attempt at extracting an item from empty deque\")\n",
    "\n",
    "    def remove_rear(self):\n",
    "        if not self.is_empty():\n",
    "            return self.items.pop()\n",
    "        else:\n",
    "            raise IndexError(\"Attempt at extracting an item from empty deque\")\n",
    "\n",
    "    def size(self):\n",
    "        return len(self.items)\n"
   ]
  },
  {
   "cell_type": "markdown",
   "id": "5d7edb08",
   "metadata": {
    "id": "5d7edb08",
    "scrolled": true
   },
   "source": [
    "### Задание №1\n",
    "Отсортировать строки файла, содержащие названия книг, в алфавитном порядке с использованием двух деков."
   ]
  },
  {
   "cell_type": "code",
   "execution_count": null,
   "id": "17702ade",
   "metadata": {
    "id": "17702ade"
   },
   "outputs": [],
   "source": [
    "def merge_sort_deques(deque1, deque2):\n",
    "    sorted_deque = Deque()\n",
    "    \n",
    "    while not deque1.is_empty() and not deque2.is_empty():\n",
    "        if deque1.items[0] < deque2.items[0]:\n",
    "            sorted_deque.add_rear(deque1.remove_front())\n",
    "        else:\n",
    "            sorted_deque.add_rear(deque2.remove_front())\n",
    "\n",
    "    while not deque1.is_empty():\n",
    "        sorted_deque.add_rear(deque1.remove_front())\n",
    "    \n",
    "    while not deque2.is_empty():\n",
    "        sorted_deque.add_rear(deque2.remove_front())\n",
    "\n",
    "    return sorted_deque\n",
    "\n",
    "\n",
    "\n",
    "def sort_books(file_path):\n",
    "    with open(file_path, 'r', encoding='utf-8') as file:\n",
    "        books = [line.strip() for line in file.readlines() if line.strip()]\n",
    "\n",
    "    if not books:\n",
    "        return []\n",
    "\n",
    "    mid = len(books) // 2\n",
    "    deque1 = Deque()\n",
    "    deque2 = Deque()\n",
    "\n",
    "    for book in books[:mid]:\n",
    "        deque1.add_rear(book)\n",
    "    for book in books[mid:]:\n",
    "        deque2.add_rear(book)\n",
    "\n",
    "    sorted_deque1 = sort_books_from_deque(deque1)\n",
    "    sorted_deque2 = sort_books_from_deque(deque2)\n",
    "\n",
    "    sorted_books_deque = merge_sort_deques(sorted_deque1, sorted_deque2)\n",
    "    return sorted_books_deque.to_list()\n",
    "\n",
    "\n",
    "\n",
    "def sort_books_from_deque(deque):\n",
    "    if deque.size() <= 1:\n",
    "        return deque\n",
    "\n",
    "    mid = deque.size() // 2\n",
    "    deque1 = Deque()\n",
    "    deque2 = Deque()\n",
    "\n",
    "    for _ in range(mid):\n",
    "        deque1.add_rear(deque.remove_front())\n",
    "    \n",
    "    while not deque.is_empty():\n",
    "        deque2.add_rear(deque.remove_front())\n",
    "\n",
    "    sorted_deque1 = sort_books_from_deque(deque1)\n",
    "    sorted_deque2 = sort_books_from_deque(deque2)\n",
    "\n",
    "    return merge_sort_deques(sorted_deque1, sorted_deque2)\n",
    "\n",
    "file_path = 'file.txt'\n",
    "sorted_books = sort_books(file_path)\n",
    "for book in sorted_books:\n",
    "    print(book)"
   ]
  },
  {
   "cell_type": "markdown",
   "id": "49fbd2a0",
   "metadata": {
    "id": "49fbd2a0"
   },
   "source": [
    "### Задание №2\n",
    "Дек содержит последовательность символов для шифровки сообщений. Дан текстовый файл, содержащий зашифрованное сообщение. Пользуясь деком, расшифровать текст.\n",
    "Известно, что при шифровке каждый символ сообщения заменялся следующим за ним в деке по часовой стрелке через один."
   ]
  },
  {
   "cell_type": "code",
   "execution_count": null,
   "id": "81cab7a8",
   "metadata": {
    "id": "81cab7a8"
   },
   "outputs": [],
   "source": [
    "def decrypt_message(file_path, characters):\n",
    "    deque = Deque(characters)\n",
    "\n",
    "    with open(file_path, 'r', encoding='utf-8') as file:\n",
    "        encrypted_message = file.read().strip()\n",
    "\n",
    "    decrypted_message = ''.join(deque.get_next(char) for char in encrypted_message)\n",
    "\n",
    "    return decrypted_message\n",
    "\n",
    "characters = \"ABCDEFGHIJKLMNOPQRSTUVWXYZabcdefghijklmnopqrstuvwxyz0123456789\"\n",
    "file_path = 'encrypted_message.txt'\n",
    "decrypted_message = decrypt_message(file_path, characters)\n",
    "print(\"Расшифрованное сообщение:\", decrypted_message)"
   ]
  },
  {
   "cell_type": "markdown",
   "id": "c0894f47",
   "metadata": {
    "id": "c0894f47"
   },
   "source": [
    "### Задание №3\n",
    "Даны три стержня и n дисков различного размера. Диски можно надевать на стержни, образуя из них башни. Перенести n дисков со стержня А на стержень С, сохранив их первоначальный порядок. При переносе дисков необходимо соблюдать следующие правила:\n",
    "- на каждом шаге со стержня на стержень переносить только один диск;\n",
    "- диск нельзя помещать на диск меньшего размера;\n",
    "- для промежуточного хранения можно использовать стержень В.\n",
    "Реализовать алгоритм, используя три стека вместо стержней А, В, С. Информация о дисках хранится в исходном файле."
   ]
  },
  {
   "cell_type": "code",
   "execution_count": null,
   "id": "9e91a9d4",
   "metadata": {
    "id": "9e91a9d4"
   },
   "outputs": [],
   "source": [
    "def move_disk(source, target):\n",
    "    disk = source.pop()\n",
    "    target.push(disk)\n",
    "    print(f\"Перемещен диск {disk} со стержня {source} на стержень {target}\")\n",
    "\n",
    "\n",
    "def hanoi(n, source, target, auxiliary):\n",
    "    if n == 1:\n",
    "        move_disk(source, target)\n",
    "    else:\n",
    "        hanoi(n - 1, source, auxiliary, target)\n",
    "        move_disk(source, target)\n",
    "        hanoi(n - 1, auxiliary, target, source)\n",
    "\n",
    "\n",
    "def read_disks_from_file(file_path):\n",
    "    stack = Stack()\n",
    "    with open(file_path, 'r', encoding='utf-8') as file:\n",
    "        for line in file:\n",
    "            disk_size = int(line.strip())\n",
    "            stack.push(disk_size)\n",
    "    return stack\n",
    "\n",
    "\n",
    "file_path = 'disks.txt'\n",
    "source_stack = read_disks_from_file(file_path)\n",
    "target_stack = Stack()\n",
    "auxiliary_stack = Stack()\n",
    "\n",
    "print(\"Исходный стержень (A):\", source_stack)\n",
    "print(\"Промежуточный стержень (B):\", auxiliary_stack)\n",
    "print(\"Целевой стержень (C):\", target_stack)\n",
    "hanoi(source_stack.size(), source_stack, target_stack, auxiliary_stack)\n",
    "print(\"Целевой стержень (C) после перемещения дисков:\", target_stack)\n"
   ]
  },
  {
   "cell_type": "markdown",
   "id": "e5b0be17",
   "metadata": {
    "id": "e5b0be17"
   },
   "source": [
    "### Задание №4\n",
    "Дан текстовый файл с программой на алгоритмическом языке. За один просмотр файла проверить баланс круглых скобок в тексте, используя стек."
   ]
  },
  {
   "cell_type": "code",
   "execution_count": null,
   "id": "5b1df60a",
   "metadata": {
    "id": "5b1df60a"
   },
   "outputs": [],
   "source": [
    "def check_parentheses_balance(file_path):\n",
    "    stack = Stack()\n",
    "    with open(file_path, 'r', encoding='utf-8') as file:\n",
    "        for line in file:\n",
    "            for char in line:\n",
    "                if char == '(':\n",
    "                    stack.push(char)\n",
    "                elif char == ')':\n",
    "                    if stack.is_empty():\n",
    "                        return False\n",
    "                    stack.pop()\n",
    "\n",
    "    return stack.is_empty()\n",
    "\n",
    "file_path = 'program.txt'\n",
    "is_balanced = check_parentheses_balance(file_path)\n",
    "\n",
    "if is_balanced:\n",
    "    print(\"Баланс круглых скобок в файле корректен.\")\n",
    "else:\n",
    "    print(\"Баланс круглых скобок в файле некорректен.\")"
   ]
  },
  {
   "cell_type": "markdown",
   "id": "c44cdd6b",
   "metadata": {
    "id": "c44cdd6b"
   },
   "source": [
    "### Задание №5\n",
    "Дан текстовый файл с программой на алгоритмическом языке. За один просмотр файла проверить баланс квадратных скобок в тексте, используя дек."
   ]
  },
  {
   "cell_type": "code",
   "execution_count": null,
   "id": "36b8f400",
   "metadata": {
    "id": "36b8f400"
   },
   "outputs": [],
   "source": [
    "from collections import deque\n",
    "\n",
    "def check_square_brackets_balance(file_path):\n",
    "    deque_ = deque()\n",
    "    with open(file_path, 'r', encoding='utf-8') as file:\n",
    "        for line in file:\n",
    "            for char in line:\n",
    "                if char == '[':\n",
    "                    deque_.append(char)\n",
    "                elif char == ']':\n",
    "                    if not deque_:\n",
    "                        return False\n",
    "                    deque_.pop()\n",
    "\n",
    "    return not deque_\n",
    "\n",
    "file_path = 'program.txt'\n",
    "is_balanced = check_square_brackets_balance(file_path)\n",
    "\n",
    "if is_balanced:\n",
    "    print(\"Баланс квадратных скобок в файле корректен.\")\n",
    "else:\n",
    "    print(\"Баланс квадратных скобок в файле некорректен.\")"
   ]
  },
  {
   "cell_type": "markdown",
   "id": "59d13dc7",
   "metadata": {
    "id": "59d13dc7"
   },
   "source": [
    "### Задание №6\n",
    "Дан файл из символов. Используя стек, за один просмотр файла напечатать сначала все цифры, затем все буквы, и, наконец, все остальные символы, сохраняя исходный порядок в каждой группе символов."
   ]
  },
  {
   "cell_type": "code",
   "execution_count": null,
   "id": "297e36c2",
   "metadata": {
    "id": "297e36c2"
   },
   "outputs": [],
   "source": [
    "def categorize_characters(file_path):\n",
    "    digits_stack = Stack()\n",
    "    letters_stack = Stack()\n",
    "    others_stack = Stack()\n",
    "\n",
    "    with open(file_path, 'r', encoding='utf-8') as file:\n",
    "        for line in file:\n",
    "            for char in line:\n",
    "                if char.isdigit():\n",
    "                    digits_stack.push(char)\n",
    "                elif char.isalpha():\n",
    "                    letters_stack.push(char)\n",
    "                else:\n",
    "                    others_stack.push(char)\n",
    "\n",
    "    print(\"Цифры:\", ''.join(digits_stack.get_items()))\n",
    "    print(\"Буквы:\", ''.join(letters_stack.get_items()))\n",
    "    print(\"Другие символы:\", ''.join(others_stack.get_items()))\n",
    "\n",
    "file_path = 'symbols.txt'\n",
    "categorize_characters(file_path)"
   ]
  },
  {
   "cell_type": "markdown",
   "id": "973f68bd",
   "metadata": {
    "id": "973f68bd"
   },
   "source": [
    "### Задание №7\n",
    "Дан файл из целых чисел. Используя дек, за один просмотр файла напечатать сначала все отрицательные числа, затем все положительные числа, сохраняя исходный порядок в каждой группе."
   ]
  },
  {
   "cell_type": "code",
   "execution_count": null,
   "id": "c56fad66",
   "metadata": {
    "id": "c56fad66"
   },
   "outputs": [],
   "source": [
    "from collections import deque\n",
    "\n",
    "def categorize_numbers(file_path):\n",
    "    negative_deque = deque()\n",
    "    positive_deque = deque()\n",
    "\n",
    "    with open(file_path, 'r', encoding='utf-8') as file:\n",
    "        for line in file:\n",
    "            numbers = line.split()\n",
    "            for num_str in numbers:\n",
    "                try:\n",
    "                    num = int(num_str)\n",
    "                    if num < 0:\n",
    "                        negative_deque.append(num)\n",
    "                    else:\n",
    "                        positive_deque.append(num)\n",
    "                except ValueError:\n",
    "                    print(f\"'{num_str}' не является целым числом и будет проигнорировано.\")\n",
    "\n",
    "    print(\"Отрицательные числа:\", list(negative_deque))\n",
    "    print(\"Положительные числа:\", list(positive_deque))\n",
    "\n",
    "file_path = 'numbers.txt'\n",
    "categorize_numbers(file_path)"
   ]
  },
  {
   "cell_type": "markdown",
   "id": "b9228191",
   "metadata": {
    "id": "b9228191"
   },
   "source": [
    "### Задание №8\n",
    "Дан текстовый файл. Используя стек, сформировать новый текстовый файл, содержащий строки исходного файла, записанные в обратном порядке: первая строка становится последней, вторая – предпоследней и т.д."
   ]
  },
  {
   "cell_type": "code",
   "execution_count": null,
   "id": "981fbdfe",
   "metadata": {
    "id": "981fbdfe"
   },
   "outputs": [],
   "source": [
    "def reverse_lines(input_file_path, output_file_path):\n",
    "    stack = Stack()\n",
    "\n",
    "    with open(input_file_path, 'r', encoding='utf-8') as input_file:\n",
    "        for line in input_file:\n",
    "            stack.push(line.strip())\n",
    "\n",
    "    with open(output_file_path, 'w', encoding='utf-8') as output_file:\n",
    "        while not stack.is_empty():\n",
    "            output_file.write(stack.pop() + '\\n')\n",
    "\n",
    "input_file_path = 'input.txt'\n",
    "output_file_path = 'output.txt'\n",
    "reverse_lines(input_file_path, output_file_path)"
   ]
  },
  {
   "cell_type": "markdown",
   "id": "rental-jerusalem",
   "metadata": {
    "id": "rental-jerusalem"
   },
   "source": [
    "### Вывод\n"
   ]
  },
  {
   "cell_type": "markdown",
   "id": "0c2b8899",
   "metadata": {
    "id": "0c2b8899"
   },
   "source": []
  }
 ],
 "metadata": {
  "colab": {
   "provenance": [
    {
     "file_id": "1SJnopeql2j1MhzcaJ8o68KaPzPnynIeK",
     "timestamp": 1676536264821
    }
   ]
  },
  "kernelspec": {
   "display_name": "Python 3 (ipykernel)",
   "language": "python",
   "name": "python3"
  },
  "language_info": {
   "codemirror_mode": {
    "name": "ipython",
    "version": 3
   },
   "file_extension": ".py",
   "mimetype": "text/x-python",
   "name": "python",
   "nbconvert_exporter": "python",
   "pygments_lexer": "ipython3",
   "version": "3.10.2"
  }
 },
 "nbformat": 4,
 "nbformat_minor": 5
}
