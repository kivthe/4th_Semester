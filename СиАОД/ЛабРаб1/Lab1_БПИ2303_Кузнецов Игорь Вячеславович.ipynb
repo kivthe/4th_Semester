{
 "cells": [
  {
   "cell_type": "markdown",
   "metadata": {},
   "source": [
    "# Лабораторная работа №1\n",
    "## Выполнил студент группы БПИ2303 Кузнецов Игорь Вячеславович\n",
    "### "
   ]
  },
  {
   "cell_type": "markdown",
   "metadata": {},
   "source": [
    "### Задание №1"
   ]
  },
  {
   "cell_type": "code",
   "execution_count": null,
   "metadata": {},
   "outputs": [],
   "source": [
    "print(\"Hello, World!\")"
   ]
  },
  {
   "cell_type": "markdown",
   "metadata": {},
   "source": [
    "### Задание №2"
   ]
  },
  {
   "cell_type": "code",
   "execution_count": null,
   "metadata": {},
   "outputs": [],
   "source": [
    "import numpy as np\n",
    "import random\n",
    "\n",
    "def numpy_rand_mat(m=50, n=50, min_limit=-250, max_limit=1000):\n",
    "    matrix = np.random.randint(min_limit, max_limit + 1, size=(m, n))\n",
    "    return matrix\n",
    "\n",
    "def rand_mat(m=50, n=50, min_limit=-250, max_limit=1000):\n",
    "    matrix = [[random.randint(min_limit, max_limit) for i in range(n)] for i in range(m)]\n",
    "    return matrix\n",
    "\n",
    "numpy_rand_mat()"
   ]
  },
  {
   "cell_type": "markdown",
   "metadata": {},
   "source": [
    "### Задание №3"
   ]
  },
  {
   "cell_type": "code",
   "execution_count": null,
   "metadata": {},
   "outputs": [],
   "source": [
    "# Сортировка выбором.\n",
    "import copy\n",
    "import time\n",
    "\n",
    "start_time = time.time()\n",
    "row1 = copy.deepcopy(matrix[0])\n",
    "for i in range(len(row1)):\n",
    "    min_el = min(row1[i:])\n",
    "    min_index = row1.index(min_el, i)\n",
    "    row1[i], row1[min_index] = row1[min_index], row1[i]\n",
    "print(row1, \"- {0} ms -\".format(round((time.time() - start_time)*10000)))"
   ]
  },
  {
   "cell_type": "code",
   "execution_count": null,
   "metadata": {},
   "outputs": [],
   "source": [
    "# Сортировка вставкой.\n",
    "import copy\n",
    "import time\n",
    "\n",
    "start_time = time.time()\n",
    "row2 = copy.deepcopy(matrix[1])\n",
    "for i in range(1, m):\n",
    "    key = row2[i]\n",
    "    j = i - 1\n",
    "    while j >= 0 and key < row2[j]:\n",
    "        row2[j + 1] = row2[j]\n",
    "        j -= 1\n",
    "    row2[j + 1] = key\n",
    "print(row2,\"--- {0} ms ---\".format(round((time.time() - start_time)*10000)))"
   ]
  },
  {
   "cell_type": "code",
   "execution_count": null,
   "metadata": {},
   "outputs": [],
   "source": [
    "# Сортировка обменом. || Сортировка пузырьком.\n",
    "import copy\n",
    "import time\n",
    "\n",
    "start_time = time.time()\n",
    "row3 = copy.deepcopy(matrix[2])\n",
    "for i in range(n):\n",
    "    for j in range(n - i - 1):\n",
    "        if row3[j] > row3[j + 1]:\n",
    "            row3[j], row3[j + 1] = row3[j + 1], row3[j]\n",
    "print(row3, \"- {0} ms -\".format(round((time.time() - start_time)*10000)))"
   ]
  },
  {
   "cell_type": "code",
   "execution_count": null,
   "metadata": {},
   "outputs": [],
   "source": [
    "# Сортировка Шелла.\n",
    "import copy\n",
    "import time\n",
    "\n",
    "start_time = time.time()\n",
    "row4 = copy.deepcopy(matrix[3])\n",
    "step = n // 2\n",
    "while step:\n",
    "    for i in range(n - step):\n",
    "        j = i\n",
    "        while j >= 0 and row4[j] > row4[j + step]:\n",
    "            row4[j], row4[j + step] = row4[j + step], row4[j]\n",
    "            j -= 1\n",
    "    step //= 2\n",
    "print(row4, \"- {0} ms -\".format(round((time.time() - start_time)*10000)))"
   ]
  },
  {
   "cell_type": "code",
   "execution_count": null,
   "metadata": {},
   "outputs": [],
   "source": [
    "# Быстрая сортировка.\n",
    "import copy\n",
    "import time\n",
    "\n",
    "start_time = time.time()\n",
    "row5 = copy.deepcopy(matrix[4])\n",
    "def quick_sort(arr):\n",
    "    if len(arr) <= 1:\n",
    "        return arr\n",
    "    else:\n",
    "        q = random.choice(arr)\n",
    "        s_arr = []\n",
    "        m_arr = []\n",
    "        e_arr = []\n",
    "        for el in arr:\n",
    "            if el < q:\n",
    "                s_arr.append(el)\n",
    "            elif el > q:\n",
    "                m_arr.append(el)\n",
    "            else:\n",
    "                e_arr.append(el)\n",
    "        return quick_sort(s_arr) + e_arr + quick_sort(m_arr)\n",
    "row5 = quick_sort(row5)\n",
    "print(row5,\"- {0} ms -\".format(round((time.time() - start_time)*10000)))"
   ]
  },
  {
   "cell_type": "code",
   "execution_count": null,
   "metadata": {},
   "outputs": [],
   "source": [
    "# Турнирная сортировка\n",
    "import copy\n",
    "import time\n",
    "\n",
    "def tournament_sort(arr):\n",
    "    n = len(arr)\n",
    "    tournament = [None] * (2 * n)\n",
    "    for i in range(n):\n",
    "        tournament[n + i] = arr[i]\n",
    "    for i in range(n - 1, 0, -1):\n",
    "        left = 2 * i\n",
    "        right = 2 * i + 1\n",
    "        if right < len(tournament):\n",
    "            tournament[i] = min(tournament[left], tournament[right])\n",
    "        else:\n",
    "            tournament[i] = tournament[left]\n",
    "    sorted_arr = []\n",
    "    for _ in range(n):\n",
    "        root = tournament[1]\n",
    "        sorted_arr.append(root)\n",
    "        tournament[1] = float('inf')\n",
    "        for i in range(1, n):\n",
    "            left = 2 * i\n",
    "            right = 2 * i + 1\n",
    "            if right < len(tournament):\n",
    "                tournament[i] = min(tournament[left], tournament[right])\n",
    "            else:\n",
    "                tournament[i] = tournament[left]\n",
    "    return sorted_arr"
   ]
  },
  {
   "cell_type": "markdown",
   "metadata": {},
   "source": [
    "#### Пример сравнения времени выполнения алгоритма на примере турнирной сортировки"
   ]
  },
  {
   "cell_type": "code",
   "execution_count": null,
   "metadata": {},
   "outputs": [],
   "source": [
    "\n",
    "import numpy as np\n",
    "import random\n",
    "import time\n",
    "import matplotlib.pyplot as plt\n",
    "\n",
    "def numpy_rand_mat(m=50, n=50, min_limit=-250, max_limit=1000):\n",
    "    matrix = np.random.randint(min_limit, max_limit + 1, size=(m, n))\n",
    "    return matrix\n",
    "\n",
    "def rand_mat(m=50, n=50, min_limit=-250, max_limit=1000):\n",
    "    matrix = [[random.randint(min_limit, max_limit) for i in range(n)] for i in range(m)]\n",
    "    return matrix\n",
    "\n",
    "def tournament_sort(arr):\n",
    "    n = len(arr)\n",
    "    tournament = [None] * (2 * n)\n",
    "    for i in range(n):\n",
    "        tournament[n + i] = arr[i]\n",
    "    for i in range(n - 1, 0, -1):\n",
    "        left = 2 * i\n",
    "        right = 2 * i + 1\n",
    "        if right < len(tournament):\n",
    "            tournament[i] = min(tournament[left], tournament[right])\n",
    "        else:\n",
    "            tournament[i] = tournament[left]\n",
    "    sorted_arr = []\n",
    "    for _ in range(n):\n",
    "        root = tournament[1]\n",
    "        sorted_arr.append(root)\n",
    "        tournament[1] = float('inf')\n",
    "        for i in range(1, n):\n",
    "            left = 2 * i\n",
    "            right = 2 * i + 1\n",
    "            if right < len(tournament):\n",
    "                tournament[i] = min(tournament[left], tournament[right])\n",
    "            else:\n",
    "                tournament[i] = tournament[left]\n",
    "    return sorted_arr\n",
    "\n",
    "def sort_mat(mat):\n",
    "    for i in range(len(mat)):\n",
    "        mat[i] = tournament_sort(mat[i])\n",
    "    return mat\n",
    "\n",
    "def plot_measurements():\n",
    "  sizes = []\n",
    "  tournament_times = []\n",
    "  sort_times = []\n",
    "\n",
    "  for dim in range(10, 301, 10):\n",
    "    sizes.append((dim, dim))\n",
    "    print(f\"Сортировка матрицы {dim}x{dim}\")\n",
    "\n",
    "    mat = rand_mat(dim, dim)\n",
    "\n",
    "    start_time = time.time()\n",
    "    sort_mat(mat)\n",
    "    tournament_times.append(time.time() - start_time)\n",
    "\n",
    "    mat = rand_mat(dim, dim)\n",
    "\n",
    "    start_time = time.time()\n",
    "    [row.sort() for row in mat]\n",
    "    sort_times.append(time.time() - start_time)\n",
    "\n",
    "  plt.figure(figsize=(24, 12))\n",
    "  plt.plot([f\"{x}x{y}\" for x, y in sizes], tournament_times, label='Турнирная сортировка', marker='o')\n",
    "  plt.plot([f\"{x}x{y}\" for x, y in sizes], sort_times, label='Турнирная сортировка', marker='o')\n",
    "  plt.xlabel('Размер матрицы (строки x столбцы)')\n",
    "  plt.ylabel('Время (секунды)')\n",
    "  plt.title('Сравнение времени сортировки для различных размеров матриц')\n",
    "  plt.legend()\n",
    "  plt.grid()\n",
    "  plt.show()\n",
    "\n",
    "plot_measurements()\n"
   ]
  }
 ],
 "metadata": {
  "kernelspec": {
   "display_name": "Python 3",
   "language": "python",
   "name": "python3"
  },
  "language_info": {
   "codemirror_mode": {
    "name": "ipython",
    "version": 3
   },
   "file_extension": ".py",
   "mimetype": "text/x-python",
   "name": "python",
   "nbconvert_exporter": "python",
   "pygments_lexer": "ipython3",
   "version": "3.11.5"
  }
 },
 "nbformat": 4,
 "nbformat_minor": 2
}
